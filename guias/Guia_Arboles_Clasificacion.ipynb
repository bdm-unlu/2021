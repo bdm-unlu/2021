{
  "nbformat": 4,
  "nbformat_minor": 0,
  "metadata": {
    "colab": {
      "name": "Guia-Arboles-Clasificacion.ipynb",
      "provenance": [],
      "include_colab_link": true
    },
    "kernelspec": {
      "name": "python3",
      "display_name": "Python 3"
    }
  },
  "cells": [
    {
      "cell_type": "markdown",
      "metadata": {
        "id": "view-in-github",
        "colab_type": "text"
      },
      "source": [
        "<a href=\"https://colab.research.google.com/github/bdm-unlu/2020/blob/master/guias/Guia_Arboles_Clasificacion.ipynb\" target=\"_parent\"><img src=\"https://colab.research.google.com/assets/colab-badge.svg\" alt=\"Open In Colab\"/></a>"
      ]
    },
    {
      "cell_type": "markdown",
      "metadata": {
        "id": "R7t49mkzKf-9"
      },
      "source": [
        "# Árboles de decisión con Scikit Learn\n",
        "\n",
        "## Introducción\n",
        "En esta guia vamos a experimientar como trabajar con el algoritmo de _árboles de clasificación_, que es una técnica de aprendizaje automático supervisado, a partir del dataset iris, con el que ya hemos trabajado algunas cuestiones de análisis exploratorio.\n",
        "<br />\n",
        "A lo largo de esta guía veremos:\n",
        "- Como trabajar con datos en Python con la librería Pandas,\n",
        "- Como entrenar un árbol de clasificación con la librería Scikit Learn,\n",
        "- Como graficar el modelo entrenado,\n",
        "- Como separar el dataset en datos de entrenamiento y test para generar modelos mas robustos.\n",
        "- Como generar métricas de evaluación de los modelos.\n",
        "- Cuales son los hiper-parámetros mas importantes del algoritmo de árboles de decisión.\n",
        "- Como predecir la clase ante la aparición de nuevas instancias utilizando el modelo.\n",
        "\n",
        "## Trabajando con datos en Scikit Learn (Python)\n",
        "Para iniciar debemos importar la librería _iris_ que está incluida en Scikit Learn. También podríamos exportarla desde un archivo csv como veníamos trabajando. \n",
        "<br />\n",
        "\n",
        "#### Lectura de archivos tradicional\n",
        "Para importarla desde un archivo Github (simulando una lectura local):"
      ]
    },
    {
      "cell_type": "code",
      "metadata": {
        "id": "i1FPARAPKfFv",
        "outputId": "3fa56108-c7a8-4be3-b876-62a891a2039d",
        "colab": {
          "base_uri": "https://localhost:8080/"
        }
      },
      "source": [
        "!rm iris.csv\n",
        "!wget https://raw.githubusercontent.com/bdm-unlu/2020/master/guias/utiles/iris.csv"
      ],
      "execution_count": 51,
      "outputs": [
        {
          "output_type": "stream",
          "text": [
            "--2020-11-02 13:09:33--  https://raw.githubusercontent.com/bdm-unlu/2020/master/guias/utiles/iris.csv\n",
            "Resolving raw.githubusercontent.com (raw.githubusercontent.com)... 151.101.0.133, 151.101.64.133, 151.101.128.133, ...\n",
            "Connecting to raw.githubusercontent.com (raw.githubusercontent.com)|151.101.0.133|:443... connected.\n",
            "HTTP request sent, awaiting response... 200 OK\n",
            "Length: 4210 (4.1K) [text/plain]\n",
            "Saving to: ‘iris.csv’\n",
            "\n",
            "\riris.csv              0%[                    ]       0  --.-KB/s               \riris.csv            100%[===================>]   4.11K  --.-KB/s    in 0s      \n",
            "\n",
            "2020-11-02 13:09:33 (56.2 MB/s) - ‘iris.csv’ saved [4210/4210]\n",
            "\n"
          ],
          "name": "stdout"
        }
      ]
    },
    {
      "cell_type": "markdown",
      "metadata": {
        "id": "bb4SH4tP4JBR"
      },
      "source": [
        "Una vez que tenemos el archivo en la nube Colab, lo cargamos en un dataframe de pandas, el cual es similar a los que veniamos trabajando en R:"
      ]
    },
    {
      "cell_type": "code",
      "metadata": {
        "id": "XW3F3DO_4NVw",
        "outputId": "473d85fa-ef4f-4511-9584-35d7f6a33042",
        "colab": {
          "base_uri": "https://localhost:8080/",
          "height": 204
        }
      },
      "source": [
        "# Importamos la librería pandas (tipo de dato dataframe)\n",
        "import pandas as pd \n",
        "\n",
        "# Lee el archivo\n",
        "data = pd.read_csv(\"iris.csv\") \n",
        "# Preview the first 5 lines of the loaded data \n",
        "data.head()"
      ],
      "execution_count": 52,
      "outputs": [
        {
          "output_type": "execute_result",
          "data": {
            "text/html": [
              "<div>\n",
              "<style scoped>\n",
              "    .dataframe tbody tr th:only-of-type {\n",
              "        vertical-align: middle;\n",
              "    }\n",
              "\n",
              "    .dataframe tbody tr th {\n",
              "        vertical-align: top;\n",
              "    }\n",
              "\n",
              "    .dataframe thead th {\n",
              "        text-align: right;\n",
              "    }\n",
              "</style>\n",
              "<table border=\"1\" class=\"dataframe\">\n",
              "  <thead>\n",
              "    <tr style=\"text-align: right;\">\n",
              "      <th></th>\n",
              "      <th>#</th>\n",
              "      <th>Sepal.Length</th>\n",
              "      <th>Sepal.Width</th>\n",
              "      <th>Petal.Length</th>\n",
              "      <th>Petal.Width</th>\n",
              "      <th>Species</th>\n",
              "    </tr>\n",
              "  </thead>\n",
              "  <tbody>\n",
              "    <tr>\n",
              "      <th>0</th>\n",
              "      <td>1</td>\n",
              "      <td>5.1</td>\n",
              "      <td>3.5</td>\n",
              "      <td>1.4</td>\n",
              "      <td>0.2</td>\n",
              "      <td>setosa</td>\n",
              "    </tr>\n",
              "    <tr>\n",
              "      <th>1</th>\n",
              "      <td>2</td>\n",
              "      <td>4.9</td>\n",
              "      <td>3.0</td>\n",
              "      <td>1.4</td>\n",
              "      <td>0.2</td>\n",
              "      <td>setosa</td>\n",
              "    </tr>\n",
              "    <tr>\n",
              "      <th>2</th>\n",
              "      <td>3</td>\n",
              "      <td>4.7</td>\n",
              "      <td>3.2</td>\n",
              "      <td>1.3</td>\n",
              "      <td>0.2</td>\n",
              "      <td>setosa</td>\n",
              "    </tr>\n",
              "    <tr>\n",
              "      <th>3</th>\n",
              "      <td>4</td>\n",
              "      <td>4.6</td>\n",
              "      <td>3.1</td>\n",
              "      <td>1.5</td>\n",
              "      <td>0.2</td>\n",
              "      <td>setosa</td>\n",
              "    </tr>\n",
              "    <tr>\n",
              "      <th>4</th>\n",
              "      <td>5</td>\n",
              "      <td>5.0</td>\n",
              "      <td>3.6</td>\n",
              "      <td>1.4</td>\n",
              "      <td>0.2</td>\n",
              "      <td>setosa</td>\n",
              "    </tr>\n",
              "  </tbody>\n",
              "</table>\n",
              "</div>"
            ],
            "text/plain": [
              "   #  Sepal.Length  Sepal.Width  Petal.Length  Petal.Width Species\n",
              "0  1           5.1          3.5           1.4          0.2  setosa\n",
              "1  2           4.9          3.0           1.4          0.2  setosa\n",
              "2  3           4.7          3.2           1.3          0.2  setosa\n",
              "3  4           4.6          3.1           1.5          0.2  setosa\n",
              "4  5           5.0          3.6           1.4          0.2  setosa"
            ]
          },
          "metadata": {
            "tags": []
          },
          "execution_count": 52
        }
      ]
    },
    {
      "cell_type": "code",
      "metadata": {
        "id": "vebm5MNaFCOm",
        "outputId": "478f973a-cff9-45a8-ef73-38aa7a3abb98",
        "colab": {
          "base_uri": "https://localhost:8080/"
        }
      },
      "source": [
        "data.shape"
      ],
      "execution_count": 53,
      "outputs": [
        {
          "output_type": "execute_result",
          "data": {
            "text/plain": [
              "(150, 6)"
            ]
          },
          "metadata": {
            "tags": []
          },
          "execution_count": 53
        }
      ]
    },
    {
      "cell_type": "markdown",
      "metadata": {
        "id": "eJXJLdVK6FDh"
      },
      "source": [
        "Siempre que trabajemos con Scikit Learn, vamos a trabajar con las features por un lado y el target (en aprendizaje supervisado) por otro lado:"
      ]
    },
    {
      "cell_type": "code",
      "metadata": {
        "id": "RsEAV3fp6bnw"
      },
      "source": [
        "# Separo \"a mano\" festures de target\n",
        "\n",
        "# Features\n",
        "feature_names = ['Sepal.Length', 'Sepal.Width','Petal.Length','Petal.Width']\n",
        "x = data[feature_names]\n",
        "\n",
        "# Target\n",
        "y = data.Species"
      ],
      "execution_count": 54,
      "outputs": []
    },
    {
      "cell_type": "markdown",
      "metadata": {
        "id": "2XEsDMU1LS-p"
      },
      "source": [
        "### El objeto bunch de Scikit Learn\n",
        "\n",
        "En cambio, podemos trabajar con los datasets desde Scikit Learn. Para utilizarlos, primero debemos importar la librería y cargarla:"
      ]
    },
    {
      "cell_type": "code",
      "metadata": {
        "id": "YfsIoe-wKfwc",
        "outputId": "9cd90d22-6ce1-4551-b477-8056c61a468a",
        "colab": {
          "base_uri": "https://localhost:8080/"
        }
      },
      "source": [
        "# Importamos el dataset iris de la librerías sklearn.datasets\n",
        "from sklearn.datasets import load_iris\n",
        "\n",
        "# Iris será un objeto \"bunch\" que es básicamente un diccionario de Python con un conjunto de claves\n",
        "iris = load_iris()\n",
        "\n",
        "print(\"Podemos pedir una descripción del dataset: \")\n",
        "print(iris.DESCR)\n"
      ],
      "execution_count": 55,
      "outputs": [
        {
          "output_type": "stream",
          "text": [
            "Podemos pedir una descripción del dataset: \n",
            ".. _iris_dataset:\n",
            "\n",
            "Iris plants dataset\n",
            "--------------------\n",
            "\n",
            "**Data Set Characteristics:**\n",
            "\n",
            "    :Number of Instances: 150 (50 in each of three classes)\n",
            "    :Number of Attributes: 4 numeric, predictive attributes and the class\n",
            "    :Attribute Information:\n",
            "        - sepal length in cm\n",
            "        - sepal width in cm\n",
            "        - petal length in cm\n",
            "        - petal width in cm\n",
            "        - class:\n",
            "                - Iris-Setosa\n",
            "                - Iris-Versicolour\n",
            "                - Iris-Virginica\n",
            "                \n",
            "    :Summary Statistics:\n",
            "\n",
            "    ============== ==== ==== ======= ===== ====================\n",
            "                    Min  Max   Mean    SD   Class Correlation\n",
            "    ============== ==== ==== ======= ===== ====================\n",
            "    sepal length:   4.3  7.9   5.84   0.83    0.7826\n",
            "    sepal width:    2.0  4.4   3.05   0.43   -0.4194\n",
            "    petal length:   1.0  6.9   3.76   1.76    0.9490  (high!)\n",
            "    petal width:    0.1  2.5   1.20   0.76    0.9565  (high!)\n",
            "    ============== ==== ==== ======= ===== ====================\n",
            "\n",
            "    :Missing Attribute Values: None\n",
            "    :Class Distribution: 33.3% for each of 3 classes.\n",
            "    :Creator: R.A. Fisher\n",
            "    :Donor: Michael Marshall (MARSHALL%PLU@io.arc.nasa.gov)\n",
            "    :Date: July, 1988\n",
            "\n",
            "The famous Iris database, first used by Sir R.A. Fisher. The dataset is taken\n",
            "from Fisher's paper. Note that it's the same as in R, but not as in the UCI\n",
            "Machine Learning Repository, which has two wrong data points.\n",
            "\n",
            "This is perhaps the best known database to be found in the\n",
            "pattern recognition literature.  Fisher's paper is a classic in the field and\n",
            "is referenced frequently to this day.  (See Duda & Hart, for example.)  The\n",
            "data set contains 3 classes of 50 instances each, where each class refers to a\n",
            "type of iris plant.  One class is linearly separable from the other 2; the\n",
            "latter are NOT linearly separable from each other.\n",
            "\n",
            ".. topic:: References\n",
            "\n",
            "   - Fisher, R.A. \"The use of multiple measurements in taxonomic problems\"\n",
            "     Annual Eugenics, 7, Part II, 179-188 (1936); also in \"Contributions to\n",
            "     Mathematical Statistics\" (John Wiley, NY, 1950).\n",
            "   - Duda, R.O., & Hart, P.E. (1973) Pattern Classification and Scene Analysis.\n",
            "     (Q327.D83) John Wiley & Sons.  ISBN 0-471-22361-1.  See page 218.\n",
            "   - Dasarathy, B.V. (1980) \"Nosing Around the Neighborhood: A New System\n",
            "     Structure and Classification Rule for Recognition in Partially Exposed\n",
            "     Environments\".  IEEE Transactions on Pattern Analysis and Machine\n",
            "     Intelligence, Vol. PAMI-2, No. 1, 67-71.\n",
            "   - Gates, G.W. (1972) \"The Reduced Nearest Neighbor Rule\".  IEEE Transactions\n",
            "     on Information Theory, May 1972, 431-433.\n",
            "   - See also: 1988 MLC Proceedings, 54-64.  Cheeseman et al\"s AUTOCLASS II\n",
            "     conceptual clustering system finds 3 classes in the data.\n",
            "   - Many, many more ...\n"
          ],
          "name": "stdout"
        }
      ]
    },
    {
      "cell_type": "markdown",
      "metadata": {
        "id": "8ZZlkBSNNUVS"
      },
      "source": [
        "Entre otros atributos, como los que se consultan a continuación:"
      ]
    },
    {
      "cell_type": "code",
      "metadata": {
        "id": "ILM6DgxDNT3L",
        "outputId": "25588866-d139-4a73-d8f4-f1976c70caa0",
        "colab": {
          "base_uri": "https://localhost:8080/"
        }
      },
      "source": [
        "print(\"Podemos ver los nombres de las features del dataset \" + str(iris.feature_names))\n",
        "\n",
        "print(\"Los posibles valores de la variable objetivo\" + str(iris.target_names))\n",
        "\n",
        "print(\"Donde está almacenado el archivo: \" + iris.filename)"
      ],
      "execution_count": 56,
      "outputs": [
        {
          "output_type": "stream",
          "text": [
            "Podemos ver los nombres de las features del dataset ['sepal length (cm)', 'sepal width (cm)', 'petal length (cm)', 'petal width (cm)']\n",
            "Los posibles valores de la variable objetivo['setosa' 'versicolor' 'virginica']\n",
            "Donde está almacenado el archivo: /usr/local/lib/python3.6/dist-packages/sklearn/datasets/data/iris.csv\n"
          ],
          "name": "stdout"
        }
      ]
    },
    {
      "cell_type": "markdown",
      "metadata": {
        "id": "MSMr_KrrOaj8"
      },
      "source": [
        "Scikit Learn tiene la particularidad que separa los valores de las features de la clase, a través de dos estructuras de datos diferentes:"
      ]
    },
    {
      "cell_type": "code",
      "metadata": {
        "id": "V_SniPYmOnJw",
        "outputId": "468d560d-d863-47a6-b86b-92d8281a0ad2",
        "colab": {
          "base_uri": "https://localhost:8080/"
        }
      },
      "source": [
        "print(\"Podemos ver los valores de las features -Por ejemplo, las primeras 5 instancias-:\\n\" + str(iris.data[0:5,]))\n",
        "print(\"\\nLa matriz de features es del tipo: + \" + str(type(iris.data[0:5,])))\n",
        "print(\"\\nY por otro lado, los valores de la variable objetivo \" + str(iris.target[0:5]))"
      ],
      "execution_count": 57,
      "outputs": [
        {
          "output_type": "stream",
          "text": [
            "Podemos ver los valores de las features -Por ejemplo, las primeras 5 instancias-:\n",
            "[[5.1 3.5 1.4 0.2]\n",
            " [4.9 3.  1.4 0.2]\n",
            " [4.7 3.2 1.3 0.2]\n",
            " [4.6 3.1 1.5 0.2]\n",
            " [5.  3.6 1.4 0.2]]\n",
            "\n",
            "La matriz de features es del tipo: + <class 'numpy.ndarray'>\n",
            "\n",
            "Y por otro lado, los valores de la variable objetivo [0 0 0 0 0]\n"
          ],
          "name": "stdout"
        }
      ]
    },
    {
      "cell_type": "markdown",
      "metadata": {
        "id": "weNFL-cbSWRV"
      },
      "source": [
        "## Árboles de Clasificación en Scikit Learn\n",
        "\n",
        "A continuación, vamos a explorar como entrenar un árbol de clasificación, analizar el modelo entrenado y evaluarlo:"
      ]
    },
    {
      "cell_type": "code",
      "metadata": {
        "id": "3Pn5tRAMSm74"
      },
      "source": [
        "# Importamos tree, donde están implementados las técnicas relativas a árboles para trabajar con J-48 (Árboles de Decisión)\n",
        "from sklearn import tree\n",
        "\n",
        "# Instanciamos el árbol como un árbol de clasificación (existen varias técnicas basadas en árboles)\n",
        "# Definimos que el criterio a utilizar para el entrenamiento es la entropia (Podría ser Gini, por ejemplo)\n",
        "arbol = tree.DecisionTreeClassifier(criterion='entropy')\n"
      ],
      "execution_count": 58,
      "outputs": []
    },
    {
      "cell_type": "markdown",
      "metadata": {
        "id": "Ira9JnK1Tawp"
      },
      "source": [
        "Ahora vamos a entrenar el árbol, para ello le pasamos los datos de los _features_ y el _target_:"
      ]
    },
    {
      "cell_type": "code",
      "metadata": {
        "id": "5b96OJUFToz9"
      },
      "source": [
        "# Ahora vamos a entrenar el dato con el método fit -le pasamos los X e Y\n",
        "# X e Y (X=atributos e Y=target)\n",
        "arbol = arbol.fit(iris.data, iris.target)\n"
      ],
      "execution_count": 59,
      "outputs": []
    },
    {
      "cell_type": "markdown",
      "metadata": {
        "id": "Chey6zV5UCbu"
      },
      "source": [
        "También puedo graficar el árbol resultante:"
      ]
    },
    {
      "cell_type": "code",
      "metadata": {
        "id": "m14-aI67UE4R",
        "outputId": "1c875cec-86ef-44e1-8675-fd863db14de2",
        "colab": {
          "base_uri": "https://localhost:8080/",
          "height": 285
        }
      },
      "source": [
        "grafico=tree.plot_tree(arbol)\n",
        "\n",
        "print(grafico)"
      ],
      "execution_count": 60,
      "outputs": [
        {
          "output_type": "stream",
          "text": [
            "[Text(167.4, 199.32, 'X[3] <= 0.8\\nentropy = 1.585\\nsamples = 150\\nvalue = [50, 50, 50]'), Text(141.64615384615385, 163.07999999999998, 'entropy = 0.0\\nsamples = 50\\nvalue = [50, 0, 0]'), Text(193.15384615384616, 163.07999999999998, 'X[3] <= 1.75\\nentropy = 1.0\\nsamples = 100\\nvalue = [0, 50, 50]'), Text(103.01538461538462, 126.83999999999999, 'X[2] <= 4.95\\nentropy = 0.445\\nsamples = 54\\nvalue = [0, 49, 5]'), Text(51.50769230769231, 90.6, 'X[3] <= 1.65\\nentropy = 0.146\\nsamples = 48\\nvalue = [0, 47, 1]'), Text(25.753846153846155, 54.359999999999985, 'entropy = 0.0\\nsamples = 47\\nvalue = [0, 47, 0]'), Text(77.26153846153846, 54.359999999999985, 'entropy = 0.0\\nsamples = 1\\nvalue = [0, 0, 1]'), Text(154.52307692307693, 90.6, 'X[3] <= 1.55\\nentropy = 0.918\\nsamples = 6\\nvalue = [0, 2, 4]'), Text(128.76923076923077, 54.359999999999985, 'entropy = 0.0\\nsamples = 3\\nvalue = [0, 0, 3]'), Text(180.27692307692308, 54.359999999999985, 'X[2] <= 5.45\\nentropy = 0.918\\nsamples = 3\\nvalue = [0, 2, 1]'), Text(154.52307692307693, 18.119999999999976, 'entropy = 0.0\\nsamples = 2\\nvalue = [0, 2, 0]'), Text(206.03076923076924, 18.119999999999976, 'entropy = 0.0\\nsamples = 1\\nvalue = [0, 0, 1]'), Text(283.2923076923077, 126.83999999999999, 'X[2] <= 4.85\\nentropy = 0.151\\nsamples = 46\\nvalue = [0, 1, 45]'), Text(257.53846153846155, 90.6, 'X[1] <= 3.1\\nentropy = 0.918\\nsamples = 3\\nvalue = [0, 1, 2]'), Text(231.7846153846154, 54.359999999999985, 'entropy = 0.0\\nsamples = 2\\nvalue = [0, 0, 2]'), Text(283.2923076923077, 54.359999999999985, 'entropy = 0.0\\nsamples = 1\\nvalue = [0, 1, 0]'), Text(309.04615384615386, 90.6, 'entropy = 0.0\\nsamples = 43\\nvalue = [0, 0, 43]')]\n"
          ],
          "name": "stdout"
        },
        {
          "output_type": "display_data",
          "data": {
            "image/png": "[encoded data removed]",
            "text/plain": [
              "<Figure size 432x288 with 1 Axes>"
            ]
          },
          "metadata": {
            "tags": [],
            "needs_background": "light"
          }
        }
      ]
    },
    {
      "cell_type": "markdown",
      "metadata": {
        "id": "kymWOT0iOSOt"
      },
      "source": [
        "Para ver mejor el gráfico, instalamos GraphViz que es una librería gráfica para Python:"
      ]
    },
    {
      "cell_type": "code",
      "metadata": {
        "id": "j0LdEYkZOYTX",
        "outputId": "44d61752-9b04-41a7-8998-00693450b19f",
        "colab": {
          "base_uri": "https://localhost:8080/"
        }
      },
      "source": [
        "!pip install graphviz"
      ],
      "execution_count": 61,
      "outputs": [
        {
          "output_type": "stream",
          "text": [
            "Requirement already satisfied: graphviz in /usr/local/lib/python3.6/dist-packages (0.10.1)\n"
          ],
          "name": "stdout"
        }
      ]
    },
    {
      "cell_type": "markdown",
      "metadata": {
        "id": "wySqIb-BObGl"
      },
      "source": [
        "Y ahora lo volvemos a generar:"
      ]
    },
    {
      "cell_type": "code",
      "metadata": {
        "id": "Eki8eqdWO2Yl",
        "outputId": "3c837004-f7b4-4500-f200-d840fe5abae3",
        "colab": {
          "base_uri": "https://localhost:8080/",
          "height": 916
        }
      },
      "source": [
        "#Importamos la librería\n",
        "import graphviz\n",
        "\n",
        "dot_data = tree.export_graphviz(arbol, out_file=None,\n",
        "                                feature_names=iris.feature_names,\n",
        "                                class_names=iris.target_names,\n",
        "                                filled=True, rounded=True,\n",
        "                                special_characters=True)  \n",
        "\n",
        "# Capturo el source\n",
        "graph = graphviz.Source(dot_data)\n",
        "\n",
        "# Muestro el contenido de graph\n",
        "graph"
      ],
      "execution_count": 62,
      "outputs": [
        {
          "output_type": "execute_result",
          "data": {
            "text/plain": [
              "<graphviz.files.Source at 0x7f2b495ba550>"
            ],
            "image/svg+xml": "<?xml version=\"1.0\" encoding=\"UTF-8\" standalone=\"no\"?>\n<!DOCTYPE svg PUBLIC \"-//W3C//DTD SVG 1.1//EN\"\n \"http://www.w3.org/Graphics/SVG/1.1/DTD/svg11.dtd\">\n<!-- Generated by graphviz version 2.40.1 (20161225.0304)\n -->\n<!-- Title: Tree Pages: 1 -->\n<svg width=\"893pt\" height=\"671pt\"\n viewBox=\"0.00 0.00 892.50 671.00\" xmlns=\"http://www.w3.org/2000/svg\" xmlns:xlink=\"http://www.w3.org/1999/xlink\">\n<g id=\"graph0\" class=\"graph\" transform=\"scale(1 1) rotate(0) translate(4 667)\">\n<title>Tree</title>\n<polygon fill=\"#ffffff\" stroke=\"transparent\" points=\"-4,4 -4,-667 888.5,-667 888.5,4 -4,4\"/>\n<!-- 0 -->\n<g id=\"node1\" class=\"node\">\n<title>0</title>\n<path fill=\"#ffffff\" stroke=\"#000000\" d=\"M532.5,-663C532.5,-663 403.5,-663 403.5,-663 397.5,-663 391.5,-657 391.5,-651 391.5,-651 391.5,-592 391.5,-592 391.5,-586 397.5,-580 403.5,-580 403.5,-580 532.5,-580 532.5,-580 538.5,-580 544.5,-586 544.5,-592 544.5,-592 544.5,-651 544.5,-651 544.5,-657 538.5,-663 532.5,-663\"/>\n<text text-anchor=\"start\" x=\"399.5\" y=\"-647.8\" font-family=\"Helvetica,sans-Serif\" font-size=\"14.00\" fill=\"#000000\">petal width (cm) ≤ 0.8</text>\n<text text-anchor=\"start\" x=\"417\" y=\"-632.8\" font-family=\"Helvetica,sans-Serif\" font-size=\"14.00\" fill=\"#000000\">entropy = 1.585</text>\n<text text-anchor=\"start\" x=\"420\" y=\"-617.8\" font-family=\"Helvetica,sans-Serif\" font-size=\"14.00\" fill=\"#000000\">samples = 150</text>\n<text text-anchor=\"start\" x=\"406\" y=\"-602.8\" font-family=\"Helvetica,sans-Serif\" font-size=\"14.00\" fill=\"#000000\">value = [50, 50, 50]</text>\n<text text-anchor=\"start\" x=\"421\" y=\"-587.8\" font-family=\"Helvetica,sans-Serif\" font-size=\"14.00\" fill=\"#000000\">class = setosa</text>\n</g>\n<!-- 1 -->\n<g id=\"node2\" class=\"node\">\n<title>1</title>\n<path fill=\"#e58139\" stroke=\"#000000\" d=\"M437.5,-536.5C437.5,-536.5 338.5,-536.5 338.5,-536.5 332.5,-536.5 326.5,-530.5 326.5,-524.5 326.5,-524.5 326.5,-480.5 326.5,-480.5 326.5,-474.5 332.5,-468.5 338.5,-468.5 338.5,-468.5 437.5,-468.5 437.5,-468.5 443.5,-468.5 449.5,-474.5 449.5,-480.5 449.5,-480.5 449.5,-524.5 449.5,-524.5 449.5,-530.5 443.5,-536.5 437.5,-536.5\"/>\n<text text-anchor=\"start\" x=\"345.5\" y=\"-521.3\" font-family=\"Helvetica,sans-Serif\" font-size=\"14.00\" fill=\"#000000\">entropy = 0.0</text>\n<text text-anchor=\"start\" x=\"344\" y=\"-506.3\" font-family=\"Helvetica,sans-Serif\" font-size=\"14.00\" fill=\"#000000\">samples = 50</text>\n<text text-anchor=\"start\" x=\"334.5\" y=\"-491.3\" font-family=\"Helvetica,sans-Serif\" font-size=\"14.00\" fill=\"#000000\">value = [50, 0, 0]</text>\n<text text-anchor=\"start\" x=\"341\" y=\"-476.3\" font-family=\"Helvetica,sans-Serif\" font-size=\"14.00\" fill=\"#000000\">class = setosa</text>\n</g>\n<!-- 0&#45;&gt;1 -->\n<g id=\"edge1\" class=\"edge\">\n<title>0&#45;&gt;1</title>\n<path fill=\"none\" stroke=\"#000000\" d=\"M440.0199,-579.8796C432.4797,-568.6636 424.3113,-556.5131 416.7309,-545.2372\"/>\n<polygon fill=\"#000000\" stroke=\"#000000\" points=\"419.5527,-543.1612 411.0689,-536.8149 413.7434,-547.0667 419.5527,-543.1612\"/>\n<text text-anchor=\"middle\" x=\"406.2608\" y=\"-557.6482\" font-family=\"Helvetica,sans-Serif\" font-size=\"14.00\" fill=\"#000000\">True</text>\n</g>\n<!-- 2 -->\n<g id=\"node3\" class=\"node\">\n<title>2</title>\n<path fill=\"#ffffff\" stroke=\"#000000\" d=\"M616.5,-544C616.5,-544 479.5,-544 479.5,-544 473.5,-544 467.5,-538 467.5,-532 467.5,-532 467.5,-473 467.5,-473 467.5,-467 473.5,-461 479.5,-461 479.5,-461 616.5,-461 616.5,-461 622.5,-461 628.5,-467 628.5,-473 628.5,-473 628.5,-532 628.5,-532 628.5,-538 622.5,-544 616.5,-544\"/>\n<text text-anchor=\"start\" x=\"475.5\" y=\"-528.8\" font-family=\"Helvetica,sans-Serif\" font-size=\"14.00\" fill=\"#000000\">petal width (cm) ≤ 1.75</text>\n<text text-anchor=\"start\" x=\"505.5\" y=\"-513.8\" font-family=\"Helvetica,sans-Serif\" font-size=\"14.00\" fill=\"#000000\">entropy = 1.0</text>\n<text text-anchor=\"start\" x=\"500\" y=\"-498.8\" font-family=\"Helvetica,sans-Serif\" font-size=\"14.00\" fill=\"#000000\">samples = 100</text>\n<text text-anchor=\"start\" x=\"490.5\" y=\"-483.8\" font-family=\"Helvetica,sans-Serif\" font-size=\"14.00\" fill=\"#000000\">value = [0, 50, 50]</text>\n<text text-anchor=\"start\" x=\"492\" y=\"-468.8\" font-family=\"Helvetica,sans-Serif\" font-size=\"14.00\" fill=\"#000000\">class = versicolor</text>\n</g>\n<!-- 0&#45;&gt;2 -->\n<g id=\"edge2\" class=\"edge\">\n<title>0&#45;&gt;2</title>\n<path fill=\"none\" stroke=\"#000000\" d=\"M495.9801,-579.8796C501.8531,-571.1434 508.1073,-561.8404 514.1679,-552.8253\"/>\n<polygon fill=\"#000000\" stroke=\"#000000\" points=\"517.2259,-554.5498 519.9005,-544.2981 511.4166,-550.6444 517.2259,-554.5498\"/>\n<text text-anchor=\"middle\" x=\"524.7085\" y=\"-565.1314\" font-family=\"Helvetica,sans-Serif\" font-size=\"14.00\" fill=\"#000000\">False</text>\n</g>\n<!-- 3 -->\n<g id=\"node4\" class=\"node\">\n<title>3</title>\n<path fill=\"#4de88e\" stroke=\"#000000\" d=\"M503.5,-425C503.5,-425 360.5,-425 360.5,-425 354.5,-425 348.5,-419 348.5,-413 348.5,-413 348.5,-354 348.5,-354 348.5,-348 354.5,-342 360.5,-342 360.5,-342 503.5,-342 503.5,-342 509.5,-342 515.5,-348 515.5,-354 515.5,-354 515.5,-413 515.5,-413 515.5,-419 509.5,-425 503.5,-425\"/>\n<text text-anchor=\"start\" x=\"356.5\" y=\"-409.8\" font-family=\"Helvetica,sans-Serif\" font-size=\"14.00\" fill=\"#000000\">petal length (cm) ≤ 4.95</text>\n<text text-anchor=\"start\" x=\"381\" y=\"-394.8\" font-family=\"Helvetica,sans-Serif\" font-size=\"14.00\" fill=\"#000000\">entropy = 0.445</text>\n<text text-anchor=\"start\" x=\"388\" y=\"-379.8\" font-family=\"Helvetica,sans-Serif\" font-size=\"14.00\" fill=\"#000000\">samples = 54</text>\n<text text-anchor=\"start\" x=\"378.5\" y=\"-364.8\" font-family=\"Helvetica,sans-Serif\" font-size=\"14.00\" fill=\"#000000\">value = [0, 49, 5]</text>\n<text text-anchor=\"start\" x=\"376\" y=\"-349.8\" font-family=\"Helvetica,sans-Serif\" font-size=\"14.00\" fill=\"#000000\">class = versicolor</text>\n</g>\n<!-- 2&#45;&gt;3 -->\n<g id=\"edge3\" class=\"edge\">\n<title>2&#45;&gt;3</title>\n<path fill=\"none\" stroke=\"#000000\" d=\"M507.4288,-460.8796C498.5618,-451.7832 489.0956,-442.0722 479.9709,-432.7116\"/>\n<polygon fill=\"#000000\" stroke=\"#000000\" points=\"482.2309,-430.0158 472.7443,-425.2981 477.2183,-434.9019 482.2309,-430.0158\"/>\n</g>\n<!-- 12 -->\n<g id=\"node13\" class=\"node\">\n<title>12</title>\n<path fill=\"#843de6\" stroke=\"#000000\" d=\"M736.5,-425C736.5,-425 593.5,-425 593.5,-425 587.5,-425 581.5,-419 581.5,-413 581.5,-413 581.5,-354 581.5,-354 581.5,-348 587.5,-342 593.5,-342 593.5,-342 736.5,-342 736.5,-342 742.5,-342 748.5,-348 748.5,-354 748.5,-354 748.5,-413 748.5,-413 748.5,-419 742.5,-425 736.5,-425\"/>\n<text text-anchor=\"start\" x=\"589.5\" y=\"-409.8\" font-family=\"Helvetica,sans-Serif\" font-size=\"14.00\" fill=\"#000000\">petal length (cm) ≤ 4.85</text>\n<text text-anchor=\"start\" x=\"614\" y=\"-394.8\" font-family=\"Helvetica,sans-Serif\" font-size=\"14.00\" fill=\"#000000\">entropy = 0.151</text>\n<text text-anchor=\"start\" x=\"621\" y=\"-379.8\" font-family=\"Helvetica,sans-Serif\" font-size=\"14.00\" fill=\"#000000\">samples = 46</text>\n<text text-anchor=\"start\" x=\"611.5\" y=\"-364.8\" font-family=\"Helvetica,sans-Serif\" font-size=\"14.00\" fill=\"#000000\">value = [0, 1, 45]</text>\n<text text-anchor=\"start\" x=\"613.5\" y=\"-349.8\" font-family=\"Helvetica,sans-Serif\" font-size=\"14.00\" fill=\"#000000\">class = virginica</text>\n</g>\n<!-- 2&#45;&gt;12 -->\n<g id=\"edge12\" class=\"edge\">\n<title>2&#45;&gt;12</title>\n<path fill=\"none\" stroke=\"#000000\" d=\"M588.9209,-460.8796C597.953,-451.6931 607.6013,-441.8798 616.8888,-432.4336\"/>\n<polygon fill=\"#000000\" stroke=\"#000000\" points=\"619.3893,-434.8827 623.9044,-425.2981 614.3977,-429.975 619.3893,-434.8827\"/>\n</g>\n<!-- 4 -->\n<g id=\"node5\" class=\"node\">\n<title>4</title>\n<path fill=\"#3de684\" stroke=\"#000000\" d=\"M274.5,-306C274.5,-306 137.5,-306 137.5,-306 131.5,-306 125.5,-300 125.5,-294 125.5,-294 125.5,-235 125.5,-235 125.5,-229 131.5,-223 137.5,-223 137.5,-223 274.5,-223 274.5,-223 280.5,-223 286.5,-229 286.5,-235 286.5,-235 286.5,-294 286.5,-294 286.5,-300 280.5,-306 274.5,-306\"/>\n<text text-anchor=\"start\" x=\"133.5\" y=\"-290.8\" font-family=\"Helvetica,sans-Serif\" font-size=\"14.00\" fill=\"#000000\">petal width (cm) ≤ 1.65</text>\n<text text-anchor=\"start\" x=\"155\" y=\"-275.8\" font-family=\"Helvetica,sans-Serif\" font-size=\"14.00\" fill=\"#000000\">entropy = 0.146</text>\n<text text-anchor=\"start\" x=\"162\" y=\"-260.8\" font-family=\"Helvetica,sans-Serif\" font-size=\"14.00\" fill=\"#000000\">samples = 48</text>\n<text text-anchor=\"start\" x=\"152.5\" y=\"-245.8\" font-family=\"Helvetica,sans-Serif\" font-size=\"14.00\" fill=\"#000000\">value = [0, 47, 1]</text>\n<text text-anchor=\"start\" x=\"150\" y=\"-230.8\" font-family=\"Helvetica,sans-Serif\" font-size=\"14.00\" fill=\"#000000\">class = versicolor</text>\n</g>\n<!-- 3&#45;&gt;4 -->\n<g id=\"edge4\" class=\"edge\">\n<title>3&#45;&gt;4</title>\n<path fill=\"none\" stroke=\"#000000\" d=\"M352.9562,-341.8796C333.8599,-331.8244 313.3373,-321.0183 293.8638,-310.7645\"/>\n<polygon fill=\"#000000\" stroke=\"#000000\" points=\"295.4782,-307.6591 284.9992,-306.0969 292.2169,-313.853 295.4782,-307.6591\"/>\n</g>\n<!-- 7 -->\n<g id=\"node8\" class=\"node\">\n<title>7</title>\n<path fill=\"#c09cf2\" stroke=\"#000000\" d=\"M500.5,-306C500.5,-306 363.5,-306 363.5,-306 357.5,-306 351.5,-300 351.5,-294 351.5,-294 351.5,-235 351.5,-235 351.5,-229 357.5,-223 363.5,-223 363.5,-223 500.5,-223 500.5,-223 506.5,-223 512.5,-229 512.5,-235 512.5,-235 512.5,-294 512.5,-294 512.5,-300 506.5,-306 500.5,-306\"/>\n<text text-anchor=\"start\" x=\"359.5\" y=\"-290.8\" font-family=\"Helvetica,sans-Serif\" font-size=\"14.00\" fill=\"#000000\">petal width (cm) ≤ 1.55</text>\n<text text-anchor=\"start\" x=\"381\" y=\"-275.8\" font-family=\"Helvetica,sans-Serif\" font-size=\"14.00\" fill=\"#000000\">entropy = 0.918</text>\n<text text-anchor=\"start\" x=\"392.5\" y=\"-260.8\" font-family=\"Helvetica,sans-Serif\" font-size=\"14.00\" fill=\"#000000\">samples = 6</text>\n<text text-anchor=\"start\" x=\"382.5\" y=\"-245.8\" font-family=\"Helvetica,sans-Serif\" font-size=\"14.00\" fill=\"#000000\">value = [0, 2, 4]</text>\n<text text-anchor=\"start\" x=\"380.5\" y=\"-230.8\" font-family=\"Helvetica,sans-Serif\" font-size=\"14.00\" fill=\"#000000\">class = virginica</text>\n</g>\n<!-- 3&#45;&gt;7 -->\n<g id=\"edge7\" class=\"edge\">\n<title>3&#45;&gt;7</title>\n<path fill=\"none\" stroke=\"#000000\" d=\"M432,-341.8796C432,-333.6838 432,-324.9891 432,-316.5013\"/>\n<polygon fill=\"#000000\" stroke=\"#000000\" points=\"435.5001,-316.298 432,-306.2981 428.5001,-316.2981 435.5001,-316.298\"/>\n</g>\n<!-- 5 -->\n<g id=\"node6\" class=\"node\">\n<title>5</title>\n<path fill=\"#39e581\" stroke=\"#000000\" d=\"M116,-179.5C116,-179.5 12,-179.5 12,-179.5 6,-179.5 0,-173.5 0,-167.5 0,-167.5 0,-123.5 0,-123.5 0,-117.5 6,-111.5 12,-111.5 12,-111.5 116,-111.5 116,-111.5 122,-111.5 128,-117.5 128,-123.5 128,-123.5 128,-167.5 128,-167.5 128,-173.5 122,-179.5 116,-179.5\"/>\n<text text-anchor=\"start\" x=\"21.5\" y=\"-164.3\" font-family=\"Helvetica,sans-Serif\" font-size=\"14.00\" fill=\"#000000\">entropy = 0.0</text>\n<text text-anchor=\"start\" x=\"20\" y=\"-149.3\" font-family=\"Helvetica,sans-Serif\" font-size=\"14.00\" fill=\"#000000\">samples = 47</text>\n<text text-anchor=\"start\" x=\"10.5\" y=\"-134.3\" font-family=\"Helvetica,sans-Serif\" font-size=\"14.00\" fill=\"#000000\">value = [0, 47, 0]</text>\n<text text-anchor=\"start\" x=\"8\" y=\"-119.3\" font-family=\"Helvetica,sans-Serif\" font-size=\"14.00\" fill=\"#000000\">class = versicolor</text>\n</g>\n<!-- 4&#45;&gt;5 -->\n<g id=\"edge5\" class=\"edge\">\n<title>4&#45;&gt;5</title>\n<path fill=\"none\" stroke=\"#000000\" d=\"M156.3353,-222.8796C142.1642,-211.0038 126.743,-198.0804 112.6342,-186.2568\"/>\n<polygon fill=\"#000000\" stroke=\"#000000\" points=\"114.8598,-183.5554 104.9472,-179.8149 110.3637,-188.9206 114.8598,-183.5554\"/>\n</g>\n<!-- 6 -->\n<g id=\"node7\" class=\"node\">\n<title>6</title>\n<path fill=\"#8139e5\" stroke=\"#000000\" d=\"M253.5,-179.5C253.5,-179.5 158.5,-179.5 158.5,-179.5 152.5,-179.5 146.5,-173.5 146.5,-167.5 146.5,-167.5 146.5,-123.5 146.5,-123.5 146.5,-117.5 152.5,-111.5 158.5,-111.5 158.5,-111.5 253.5,-111.5 253.5,-111.5 259.5,-111.5 265.5,-117.5 265.5,-123.5 265.5,-123.5 265.5,-167.5 265.5,-167.5 265.5,-173.5 259.5,-179.5 253.5,-179.5\"/>\n<text text-anchor=\"start\" x=\"163.5\" y=\"-164.3\" font-family=\"Helvetica,sans-Serif\" font-size=\"14.00\" fill=\"#000000\">entropy = 0.0</text>\n<text text-anchor=\"start\" x=\"166.5\" y=\"-149.3\" font-family=\"Helvetica,sans-Serif\" font-size=\"14.00\" fill=\"#000000\">samples = 1</text>\n<text text-anchor=\"start\" x=\"156.5\" y=\"-134.3\" font-family=\"Helvetica,sans-Serif\" font-size=\"14.00\" fill=\"#000000\">value = [0, 0, 1]</text>\n<text text-anchor=\"start\" x=\"154.5\" y=\"-119.3\" font-family=\"Helvetica,sans-Serif\" font-size=\"14.00\" fill=\"#000000\">class = virginica</text>\n</g>\n<!-- 4&#45;&gt;6 -->\n<g id=\"edge6\" class=\"edge\">\n<title>4&#45;&gt;6</title>\n<path fill=\"none\" stroke=\"#000000\" d=\"M206,-222.8796C206,-212.2134 206,-200.7021 206,-189.9015\"/>\n<polygon fill=\"#000000\" stroke=\"#000000\" points=\"209.5001,-189.8149 206,-179.8149 202.5001,-189.815 209.5001,-189.8149\"/>\n</g>\n<!-- 8 -->\n<g id=\"node9\" class=\"node\">\n<title>8</title>\n<path fill=\"#8139e5\" stroke=\"#000000\" d=\"M390.5,-179.5C390.5,-179.5 295.5,-179.5 295.5,-179.5 289.5,-179.5 283.5,-173.5 283.5,-167.5 283.5,-167.5 283.5,-123.5 283.5,-123.5 283.5,-117.5 289.5,-111.5 295.5,-111.5 295.5,-111.5 390.5,-111.5 390.5,-111.5 396.5,-111.5 402.5,-117.5 402.5,-123.5 402.5,-123.5 402.5,-167.5 402.5,-167.5 402.5,-173.5 396.5,-179.5 390.5,-179.5\"/>\n<text text-anchor=\"start\" x=\"300.5\" y=\"-164.3\" font-family=\"Helvetica,sans-Serif\" font-size=\"14.00\" fill=\"#000000\">entropy = 0.0</text>\n<text text-anchor=\"start\" x=\"303.5\" y=\"-149.3\" font-family=\"Helvetica,sans-Serif\" font-size=\"14.00\" fill=\"#000000\">samples = 3</text>\n<text text-anchor=\"start\" x=\"293.5\" y=\"-134.3\" font-family=\"Helvetica,sans-Serif\" font-size=\"14.00\" fill=\"#000000\">value = [0, 0, 3]</text>\n<text text-anchor=\"start\" x=\"291.5\" y=\"-119.3\" font-family=\"Helvetica,sans-Serif\" font-size=\"14.00\" fill=\"#000000\">class = virginica</text>\n</g>\n<!-- 7&#45;&gt;8 -->\n<g id=\"edge8\" class=\"edge\">\n<title>7&#45;&gt;8</title>\n<path fill=\"none\" stroke=\"#000000\" d=\"M400.8721,-222.8796C392.4014,-211.5536 383.2181,-199.2748 374.7153,-187.9058\"/>\n<polygon fill=\"#000000\" stroke=\"#000000\" points=\"377.4562,-185.7268 368.6641,-179.8149 371.8505,-189.9193 377.4562,-185.7268\"/>\n</g>\n<!-- 9 -->\n<g id=\"node10\" class=\"node\">\n<title>9</title>\n<path fill=\"#9cf2c0\" stroke=\"#000000\" d=\"M575.5,-187C575.5,-187 432.5,-187 432.5,-187 426.5,-187 420.5,-181 420.5,-175 420.5,-175 420.5,-116 420.5,-116 420.5,-110 426.5,-104 432.5,-104 432.5,-104 575.5,-104 575.5,-104 581.5,-104 587.5,-110 587.5,-116 587.5,-116 587.5,-175 587.5,-175 587.5,-181 581.5,-187 575.5,-187\"/>\n<text text-anchor=\"start\" x=\"428.5\" y=\"-171.8\" font-family=\"Helvetica,sans-Serif\" font-size=\"14.00\" fill=\"#000000\">petal length (cm) ≤ 5.45</text>\n<text text-anchor=\"start\" x=\"453\" y=\"-156.8\" font-family=\"Helvetica,sans-Serif\" font-size=\"14.00\" fill=\"#000000\">entropy = 0.918</text>\n<text text-anchor=\"start\" x=\"464.5\" y=\"-141.8\" font-family=\"Helvetica,sans-Serif\" font-size=\"14.00\" fill=\"#000000\">samples = 3</text>\n<text text-anchor=\"start\" x=\"454.5\" y=\"-126.8\" font-family=\"Helvetica,sans-Serif\" font-size=\"14.00\" fill=\"#000000\">value = [0, 2, 1]</text>\n<text text-anchor=\"start\" x=\"448\" y=\"-111.8\" font-family=\"Helvetica,sans-Serif\" font-size=\"14.00\" fill=\"#000000\">class = versicolor</text>\n</g>\n<!-- 7&#45;&gt;9 -->\n<g id=\"edge9\" class=\"edge\">\n<title>7&#45;&gt;9</title>\n<path fill=\"none\" stroke=\"#000000\" d=\"M457.1821,-222.8796C462.4133,-214.2335 467.9805,-205.0322 473.3823,-196.1042\"/>\n<polygon fill=\"#000000\" stroke=\"#000000\" points=\"476.5283,-197.6658 478.7104,-187.2981 470.5392,-194.0421 476.5283,-197.6658\"/>\n</g>\n<!-- 10 -->\n<g id=\"node11\" class=\"node\">\n<title>10</title>\n<path fill=\"#39e581\" stroke=\"#000000\" d=\"M485,-68C485,-68 381,-68 381,-68 375,-68 369,-62 369,-56 369,-56 369,-12 369,-12 369,-6 375,0 381,0 381,0 485,0 485,0 491,0 497,-6 497,-12 497,-12 497,-56 497,-56 497,-62 491,-68 485,-68\"/>\n<text text-anchor=\"start\" x=\"390.5\" y=\"-52.8\" font-family=\"Helvetica,sans-Serif\" font-size=\"14.00\" fill=\"#000000\">entropy = 0.0</text>\n<text text-anchor=\"start\" x=\"393.5\" y=\"-37.8\" font-family=\"Helvetica,sans-Serif\" font-size=\"14.00\" fill=\"#000000\">samples = 2</text>\n<text text-anchor=\"start\" x=\"383.5\" y=\"-22.8\" font-family=\"Helvetica,sans-Serif\" font-size=\"14.00\" fill=\"#000000\">value = [0, 2, 0]</text>\n<text text-anchor=\"start\" x=\"377\" y=\"-7.8\" font-family=\"Helvetica,sans-Serif\" font-size=\"14.00\" fill=\"#000000\">class = versicolor</text>\n</g>\n<!-- 9&#45;&gt;10 -->\n<g id=\"edge10\" class=\"edge\">\n<title>9&#45;&gt;10</title>\n<path fill=\"none\" stroke=\"#000000\" d=\"M477.5622,-103.9815C471.944,-95.1585 466.0012,-85.8258 460.3497,-76.9506\"/>\n<polygon fill=\"#000000\" stroke=\"#000000\" points=\"463.1416,-74.8188 454.8181,-68.2637 457.2371,-78.5787 463.1416,-74.8188\"/>\n</g>\n<!-- 11 -->\n<g id=\"node12\" class=\"node\">\n<title>11</title>\n<path fill=\"#8139e5\" stroke=\"#000000\" d=\"M622.5,-68C622.5,-68 527.5,-68 527.5,-68 521.5,-68 515.5,-62 515.5,-56 515.5,-56 515.5,-12 515.5,-12 515.5,-6 521.5,0 527.5,0 527.5,0 622.5,0 622.5,0 628.5,0 634.5,-6 634.5,-12 634.5,-12 634.5,-56 634.5,-56 634.5,-62 628.5,-68 622.5,-68\"/>\n<text text-anchor=\"start\" x=\"532.5\" y=\"-52.8\" font-family=\"Helvetica,sans-Serif\" font-size=\"14.00\" fill=\"#000000\">entropy = 0.0</text>\n<text text-anchor=\"start\" x=\"535.5\" y=\"-37.8\" font-family=\"Helvetica,sans-Serif\" font-size=\"14.00\" fill=\"#000000\">samples = 1</text>\n<text text-anchor=\"start\" x=\"525.5\" y=\"-22.8\" font-family=\"Helvetica,sans-Serif\" font-size=\"14.00\" fill=\"#000000\">value = [0, 0, 1]</text>\n<text text-anchor=\"start\" x=\"523.5\" y=\"-7.8\" font-family=\"Helvetica,sans-Serif\" font-size=\"14.00\" fill=\"#000000\">class = virginica</text>\n</g>\n<!-- 9&#45;&gt;11 -->\n<g id=\"edge11\" class=\"edge\">\n<title>9&#45;&gt;11</title>\n<path fill=\"none\" stroke=\"#000000\" d=\"M530.4378,-103.9815C536.056,-95.1585 541.9988,-85.8258 547.6503,-76.9506\"/>\n<polygon fill=\"#000000\" stroke=\"#000000\" points=\"550.7629,-78.5787 553.1819,-68.2637 544.8584,-74.8188 550.7629,-78.5787\"/>\n</g>\n<!-- 13 -->\n<g id=\"node14\" class=\"node\">\n<title>13</title>\n<path fill=\"#c09cf2\" stroke=\"#000000\" d=\"M731.5,-306C731.5,-306 598.5,-306 598.5,-306 592.5,-306 586.5,-300 586.5,-294 586.5,-294 586.5,-235 586.5,-235 586.5,-229 592.5,-223 598.5,-223 598.5,-223 731.5,-223 731.5,-223 737.5,-223 743.5,-229 743.5,-235 743.5,-235 743.5,-294 743.5,-294 743.5,-300 737.5,-306 731.5,-306\"/>\n<text text-anchor=\"start\" x=\"594.5\" y=\"-290.8\" font-family=\"Helvetica,sans-Serif\" font-size=\"14.00\" fill=\"#000000\">sepal width (cm) ≤ 3.1</text>\n<text text-anchor=\"start\" x=\"614\" y=\"-275.8\" font-family=\"Helvetica,sans-Serif\" font-size=\"14.00\" fill=\"#000000\">entropy = 0.918</text>\n<text text-anchor=\"start\" x=\"625.5\" y=\"-260.8\" font-family=\"Helvetica,sans-Serif\" font-size=\"14.00\" fill=\"#000000\">samples = 3</text>\n<text text-anchor=\"start\" x=\"615.5\" y=\"-245.8\" font-family=\"Helvetica,sans-Serif\" font-size=\"14.00\" fill=\"#000000\">value = [0, 1, 2]</text>\n<text text-anchor=\"start\" x=\"613.5\" y=\"-230.8\" font-family=\"Helvetica,sans-Serif\" font-size=\"14.00\" fill=\"#000000\">class = virginica</text>\n</g>\n<!-- 12&#45;&gt;13 -->\n<g id=\"edge13\" class=\"edge\">\n<title>12&#45;&gt;13</title>\n<path fill=\"none\" stroke=\"#000000\" d=\"M665,-341.8796C665,-333.6838 665,-324.9891 665,-316.5013\"/>\n<polygon fill=\"#000000\" stroke=\"#000000\" points=\"668.5001,-316.298 665,-306.2981 661.5001,-316.2981 668.5001,-316.298\"/>\n</g>\n<!-- 16 -->\n<g id=\"node17\" class=\"node\">\n<title>16</title>\n<path fill=\"#8139e5\" stroke=\"#000000\" d=\"M872.5,-298.5C872.5,-298.5 773.5,-298.5 773.5,-298.5 767.5,-298.5 761.5,-292.5 761.5,-286.5 761.5,-286.5 761.5,-242.5 761.5,-242.5 761.5,-236.5 767.5,-230.5 773.5,-230.5 773.5,-230.5 872.5,-230.5 872.5,-230.5 878.5,-230.5 884.5,-236.5 884.5,-242.5 884.5,-242.5 884.5,-286.5 884.5,-286.5 884.5,-292.5 878.5,-298.5 872.5,-298.5\"/>\n<text text-anchor=\"start\" x=\"780.5\" y=\"-283.3\" font-family=\"Helvetica,sans-Serif\" font-size=\"14.00\" fill=\"#000000\">entropy = 0.0</text>\n<text text-anchor=\"start\" x=\"779\" y=\"-268.3\" font-family=\"Helvetica,sans-Serif\" font-size=\"14.00\" fill=\"#000000\">samples = 43</text>\n<text text-anchor=\"start\" x=\"769.5\" y=\"-253.3\" font-family=\"Helvetica,sans-Serif\" font-size=\"14.00\" fill=\"#000000\">value = [0, 0, 43]</text>\n<text text-anchor=\"start\" x=\"771.5\" y=\"-238.3\" font-family=\"Helvetica,sans-Serif\" font-size=\"14.00\" fill=\"#000000\">class = virginica</text>\n</g>\n<!-- 12&#45;&gt;16 -->\n<g id=\"edge16\" class=\"edge\">\n<title>12&#45;&gt;16</title>\n<path fill=\"none\" stroke=\"#000000\" d=\"M720.2607,-341.8796C736.2503,-329.8368 753.6703,-316.7167 769.5474,-304.7586\"/>\n<polygon fill=\"#000000\" stroke=\"#000000\" points=\"771.8116,-307.435 777.6938,-298.623 767.6002,-301.8435 771.8116,-307.435\"/>\n</g>\n<!-- 14 -->\n<g id=\"node15\" class=\"node\">\n<title>14</title>\n<path fill=\"#8139e5\" stroke=\"#000000\" d=\"M712.5,-179.5C712.5,-179.5 617.5,-179.5 617.5,-179.5 611.5,-179.5 605.5,-173.5 605.5,-167.5 605.5,-167.5 605.5,-123.5 605.5,-123.5 605.5,-117.5 611.5,-111.5 617.5,-111.5 617.5,-111.5 712.5,-111.5 712.5,-111.5 718.5,-111.5 724.5,-117.5 724.5,-123.5 724.5,-123.5 724.5,-167.5 724.5,-167.5 724.5,-173.5 718.5,-179.5 712.5,-179.5\"/>\n<text text-anchor=\"start\" x=\"622.5\" y=\"-164.3\" font-family=\"Helvetica,sans-Serif\" font-size=\"14.00\" fill=\"#000000\">entropy = 0.0</text>\n<text text-anchor=\"start\" x=\"625.5\" y=\"-149.3\" font-family=\"Helvetica,sans-Serif\" font-size=\"14.00\" fill=\"#000000\">samples = 2</text>\n<text text-anchor=\"start\" x=\"615.5\" y=\"-134.3\" font-family=\"Helvetica,sans-Serif\" font-size=\"14.00\" fill=\"#000000\">value = [0, 0, 2]</text>\n<text text-anchor=\"start\" x=\"613.5\" y=\"-119.3\" font-family=\"Helvetica,sans-Serif\" font-size=\"14.00\" fill=\"#000000\">class = virginica</text>\n</g>\n<!-- 13&#45;&gt;14 -->\n<g id=\"edge14\" class=\"edge\">\n<title>13&#45;&gt;14</title>\n<path fill=\"none\" stroke=\"#000000\" d=\"M665,-222.8796C665,-212.2134 665,-200.7021 665,-189.9015\"/>\n<polygon fill=\"#000000\" stroke=\"#000000\" points=\"668.5001,-189.8149 665,-179.8149 661.5001,-189.815 668.5001,-189.8149\"/>\n</g>\n<!-- 15 -->\n<g id=\"node16\" class=\"node\">\n<title>15</title>\n<path fill=\"#39e581\" stroke=\"#000000\" d=\"M859,-179.5C859,-179.5 755,-179.5 755,-179.5 749,-179.5 743,-173.5 743,-167.5 743,-167.5 743,-123.5 743,-123.5 743,-117.5 749,-111.5 755,-111.5 755,-111.5 859,-111.5 859,-111.5 865,-111.5 871,-117.5 871,-123.5 871,-123.5 871,-167.5 871,-167.5 871,-173.5 865,-179.5 859,-179.5\"/>\n<text text-anchor=\"start\" x=\"764.5\" y=\"-164.3\" font-family=\"Helvetica,sans-Serif\" font-size=\"14.00\" fill=\"#000000\">entropy = 0.0</text>\n<text text-anchor=\"start\" x=\"767.5\" y=\"-149.3\" font-family=\"Helvetica,sans-Serif\" font-size=\"14.00\" fill=\"#000000\">samples = 1</text>\n<text text-anchor=\"start\" x=\"757.5\" y=\"-134.3\" font-family=\"Helvetica,sans-Serif\" font-size=\"14.00\" fill=\"#000000\">value = [0, 1, 0]</text>\n<text text-anchor=\"start\" x=\"751\" y=\"-119.3\" font-family=\"Helvetica,sans-Serif\" font-size=\"14.00\" fill=\"#000000\">class = versicolor</text>\n</g>\n<!-- 13&#45;&gt;15 -->\n<g id=\"edge15\" class=\"edge\">\n<title>13&#45;&gt;15</title>\n<path fill=\"none\" stroke=\"#000000\" d=\"M714.6647,-222.8796C728.8358,-211.0038 744.257,-198.0804 758.3658,-186.2568\"/>\n<polygon fill=\"#000000\" stroke=\"#000000\" points=\"760.6363,-188.9206 766.0528,-179.8149 756.1402,-183.5554 760.6363,-188.9206\"/>\n</g>\n</g>\n</svg>\n"
          },
          "metadata": {
            "tags": []
          },
          "execution_count": 62
        }
      ]
    },
    {
      "cell_type": "markdown",
      "metadata": {
        "id": "KJuq8w2zzrOw"
      },
      "source": [
        "En cambio, si quisieramos guardarlo en Drive y/o descargar el archivo, lo hacemos de la siguiente manera:"
      ]
    },
    {
      "cell_type": "code",
      "metadata": {
        "id": "G5her6MWwR9M",
        "outputId": "79b1f379-c58e-4606-c051-14de6346960e",
        "colab": {
          "base_uri": "https://localhost:8080/",
          "height": 17
        }
      },
      "source": [
        "from sklearn.tree import export_graphviz\n",
        "from io import StringIO  \n",
        "import pydotplus\n",
        "from google.colab import files\n",
        "\n",
        "# Capturlo la exportación del gráfico del árbol  \n",
        "dot_data = StringIO()\n",
        "tree.export_graphviz(arbol, out_file=dot_data,\n",
        "                                feature_names=iris.feature_names,\n",
        "                                class_names=iris.target_names,\n",
        "                                filled=True, rounded=True,\n",
        "                                special_characters=True)  \n",
        "\n",
        "# Con el string del dot lo paso a un gráfico\n",
        "graph = pydotplus.graph_from_dot_data(dot_data.getvalue())  \n",
        "\n",
        "# Genero png y lo descargo\n",
        "graph.write_png('mi_arbol.png')\n",
        "files.download('mi_arbol.png')"
      ],
      "execution_count": 63,
      "outputs": [
        {
          "output_type": "display_data",
          "data": {
            "application/javascript": [
              "\n",
              "    async function download(id, filename, size) {\n",
              "      if (!google.colab.kernel.accessAllowed) {\n",
              "        return;\n",
              "      }\n",
              "      const div = document.createElement('div');\n",
              "      const label = document.createElement('label');\n",
              "      label.textContent = `Downloading \"${filename}\": `;\n",
              "      div.appendChild(label);\n",
              "      const progress = document.createElement('progress');\n",
              "      progress.max = size;\n",
              "      div.appendChild(progress);\n",
              "      document.body.appendChild(div);\n",
              "\n",
              "      const buffers = [];\n",
              "      let downloaded = 0;\n",
              "\n",
              "      const channel = await google.colab.kernel.comms.open(id);\n",
              "      // Send a message to notify the kernel that we're ready.\n",
              "      channel.send({})\n",
              "\n",
              "      for await (const message of channel.messages) {\n",
              "        // Send a message to notify the kernel that we're ready.\n",
              "        channel.send({})\n",
              "        if (message.buffers) {\n",
              "          for (const buffer of message.buffers) {\n",
              "            buffers.push(buffer);\n",
              "            downloaded += buffer.byteLength;\n",
              "            progress.value = downloaded;\n",
              "          }\n",
              "        }\n",
              "      }\n",
              "      const blob = new Blob(buffers, {type: 'application/binary'});\n",
              "      const a = document.createElement('a');\n",
              "      a.href = window.URL.createObjectURL(blob);\n",
              "      a.download = filename;\n",
              "      div.appendChild(a);\n",
              "      a.click();\n",
              "      div.remove();\n",
              "    }\n",
              "  "
            ],
            "text/plain": [
              "<IPython.core.display.Javascript object>"
            ]
          },
          "metadata": {
            "tags": []
          }
        },
        {
          "output_type": "display_data",
          "data": {
            "application/javascript": [
              "download(\"download_922bc868-4bdf-4f07-b977-a1fa8970f84f\", \"mi_arbol.png\", 178614)"
            ],
            "text/plain": [
              "<IPython.core.display.Javascript object>"
            ]
          },
          "metadata": {
            "tags": []
          }
        }
      ]
    },
    {
      "cell_type": "markdown",
      "metadata": {
        "id": "L0YaTOcsP15Y"
      },
      "source": [
        "## Separación en datos de entrenamiento y test\n",
        "\n",
        "Para el ejemplo anterior, simplemente tomamos todos los datos del dataset __iris__ para entrenamiento y generamos el modelo con esos datos. <br />\n",
        "\n",
        "Como vimos en la clase teórica, esta no es la forma mas robusta de evaluar el modelo. Lo que podemos hacer es generar un conjunto de datos de entrenamiento y otro de testeo:"
      ]
    },
    {
      "cell_type": "code",
      "metadata": {
        "id": "jbWWoN9qP1Uu"
      },
      "source": [
        "from sklearn.model_selection import train_test_split\n",
        "\n",
        "# Separo en 70-30 entrenamiento y testeo\n",
        "X_train, X_test, y_train, y_test = train_test_split(x, y, random_state=0, test_size=0.3)\n",
        "\n",
        "# Creo el objeto Decision Tree classifer\n",
        "arbol_tt = tree.DecisionTreeClassifier()\n",
        "\n",
        "# Entreno el Decision Tree Classifer\n",
        "arbol_tt = arbol_tt.fit(X_train,y_train)\n",
        "\n",
        "#Realizo las predicciones en función del árbol generado\n",
        "y_pred = arbol_tt.predict(X_test)\n"
      ],
      "execution_count": 64,
      "outputs": []
    },
    {
      "cell_type": "markdown",
      "metadata": {
        "id": "JRIJ_PRZ-Xbo"
      },
      "source": [
        "## Métricas de evaluación de modelos\n",
        "\n",
        "Como vimos en teoría, luego debemos evaluar el modelo generado, para saber que tan robusto es. En _Scikit Learn_ lo hacemos de la siguiente manera:"
      ]
    },
    {
      "cell_type": "code",
      "metadata": {
        "id": "gh12t28--ZPn",
        "outputId": "2dcccef7-f242-4804-fb50-d99190a3c90e",
        "colab": {
          "base_uri": "https://localhost:8080/"
        }
      },
      "source": [
        "from sklearn import metrics #Importar el módulo metrics de scikit-learn\n",
        "\n",
        "# Vamos a testear el modelo\n",
        "print(\"Accuracy:\",metrics.accuracy_score(y_test, y_pred))\n",
        "\n",
        "# Vemos un reporte de clasificación de varias métricas\n",
        "print(metrics.classification_report(y_test, y_pred))\n"
      ],
      "execution_count": 65,
      "outputs": [
        {
          "output_type": "stream",
          "text": [
            "Accuracy: 0.9777777777777777\n",
            "              precision    recall  f1-score   support\n",
            "\n",
            "      setosa       1.00      1.00      1.00        16\n",
            "  versicolor       1.00      0.94      0.97        18\n",
            "   virginica       0.92      1.00      0.96        11\n",
            "\n",
            "    accuracy                           0.98        45\n",
            "   macro avg       0.97      0.98      0.98        45\n",
            "weighted avg       0.98      0.98      0.98        45\n",
            "\n"
          ],
          "name": "stdout"
        }
      ]
    },
    {
      "cell_type": "code",
      "metadata": {
        "id": "pHgEEn_QFkZx",
        "outputId": "47a368a5-a4f0-4a02-fcfd-99d66708ac6e",
        "colab": {
          "base_uri": "https://localhost:8080/"
        }
      },
      "source": [
        "import numpy as np\n",
        "species = np.array(y_test)\n",
        "predictions = np.array(y_pred)\n",
        "\n",
        "metrics.confusion_matrix(species, predictions)\n"
      ],
      "execution_count": 66,
      "outputs": [
        {
          "output_type": "execute_result",
          "data": {
            "text/plain": [
              "array([[16,  0,  0],\n",
              "       [ 0, 17,  1],\n",
              "       [ 0,  0, 11]])"
            ]
          },
          "metadata": {
            "tags": []
          },
          "execution_count": 66
        }
      ]
    },
    {
      "cell_type": "markdown",
      "metadata": {
        "id": "Hj2YSiHcAXXZ"
      },
      "source": [
        "## Parámetros del árbol de clasificación\n",
        "\n",
        "Como la mayoría de los algoritmos de aprendizaje automático, los árboles de decisión poseen hiper-parámetros que podemos ajustar. En el caso de este algoritmo la calibración de parámetros es muy importante, tanto para la performance del árbol como para evitar el sobreajuste:"
      ]
    },
    {
      "cell_type": "code",
      "metadata": {
        "id": "bnMb4k-WA06c",
        "outputId": "d5f78ae9-eed0-46f5-f9a1-ad896f823734",
        "colab": {
          "base_uri": "https://localhost:8080/"
        }
      },
      "source": [
        "# Creo nuevamente el objeto Decision Tree classifer\n",
        "# En este caso, instancio:\n",
        "# criterion: cual es el criterio utilizado para la separación de instancias (gini o entropy)\n",
        "# max_depth: máxima profundidad del árbol en términos de niveles\n",
        "# min_samples_leaf: numero mínimo de instancias para formar una hoja\n",
        "# class_weight: pesos asociados a cada valor de la clase\n",
        "# min_samples_split: numero mínimo de instancias para formar una hoja\n",
        "# max_features: cantidad máxima de features a incluir en el modelo\n",
        "arbol_parametrizado = tree.DecisionTreeClassifier(criterion=\"entropy\", max_depth=7, min_samples_leaf=4)\n",
        "\n",
        "# Entreno el Decision Tree Classifer con el mismo muestreo generado antes (70-30 %)\n",
        "arbol_parametrizado = arbol_parametrizado.fit(X_train,y_train)\n",
        "\n",
        "#Predict the response for test dataset\n",
        "y_pred = arbol_parametrizado.predict(X_test)\n",
        "\n",
        "print(\"Accuracy:\",metrics.accuracy_score(y_test, y_pred))\n"
      ],
      "execution_count": 67,
      "outputs": [
        {
          "output_type": "stream",
          "text": [
            "Accuracy: 0.9777777777777777\n"
          ],
          "name": "stdout"
        }
      ]
    },
    {
      "cell_type": "markdown",
      "metadata": {
        "id": "sU14aoOZDU7u"
      },
      "source": [
        "## Utilizando el modelo para clasificar/predecir casos nuevos\n",
        "\n",
        "A partir del modelo generado, podríamos darle un nuevo caso y el árbol debería clasificarlo, lo cual equivale a \"predecir\" su clase:"
      ]
    },
    {
      "cell_type": "code",
      "metadata": {
        "id": "we0OSJ_vDVjW",
        "outputId": "bb4cd31c-f0e4-4667-8236-102db00d98cb",
        "colab": {
          "base_uri": "https://localhost:8080/"
        }
      },
      "source": [
        "# Haciendo nuevas predicciones a partir de los datos\n",
        "pred_ejemplo1 = int(arbol.predict([[5, 7, 1, 3]]))\n",
        "pred_ejemplo2 = int(arbol.predict([[11, 5, 3.2, 1.5]]))\n",
        "print(f\"Este ejemplo corresponde a una flor {iris.target_names[pred_ejemplo1]}.\")\n",
        "print(f\"Este ejemplo corresponde a una flor {iris.target_names[pred_ejemplo2]}.\")\n"
      ],
      "execution_count": 68,
      "outputs": [
        {
          "output_type": "stream",
          "text": [
            "Este ejemplo corresponde a una flor versicolor.\n",
            "Este ejemplo corresponde a una flor versicolor.\n"
          ],
          "name": "stdout"
        }
      ]
    },
    {
      "cell_type": "markdown",
      "metadata": {
        "id": "ulWtSbCI5-tG"
      },
      "source": [
        "## Referencias & Recursos Web\n",
        "\n",
        "- https://scikit-learn.org/stable/modules/tree.html#tree-classification\n",
        "\n",
        "- https://scikit-learn.org/stable/modules/generated/sklearn.tree.DecisionTreeClassifier.html\n",
        "\n",
        "- https://www.datacamp.com/community/tutorials/decision-tree-classification-python\n",
        "\n",
        "- https://towardsdatascience.com/scikit-learn-decision-trees-explained-803f3812290d\n",
        "\n",
        "- https://www.aprendemachinelearning.com/arbol-de-decision-en-python-clasificacion-y-prediccion/\n",
        "\n",
        "- https://towardsdatascience.com/decision-tree-in-python-b433ae57fb93\n",
        "\n",
        "- https://stackabuse.com/decision-trees-in-python-with-scikit-learn/\n",
        "\n",
        "- https://dataaspirant.com/2017/02/01/decision-tree-algorithm-python-with-scikit-learn/\n"
      ]
    }
  ]
}